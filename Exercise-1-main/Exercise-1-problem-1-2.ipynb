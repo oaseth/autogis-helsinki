{
 "cells": [
  {
   "cell_type": "markdown",
   "metadata": {
    "deletable": false,
    "editable": false,
    "tags": []
   },
   "source": [
    "## Problem 1: Creating basic geometries (*5 points*)\n",
    "\n",
    "In this problem, you will create custom functions that create geometry objects. \n",
    "We start with a very simple function, and proceed to creating functions that can handle invalid input values.    "
   ]
  },
  {
   "cell_type": "markdown",
   "metadata": {
    "deletable": false,
    "editable": false,
    "tags": []
   },
   "source": [
    "\n",
    "----\n",
    "\n",
    "#### (1a)\n",
    "\n",
    "Create a function called **`create_point_geometry()`** that accepts two parameters, `x_coord` and `y_coord`. \n",
    "The function should return a `shapely.geometry.Point` geometry object. "
   ]
  },
  {
   "cell_type": "code",
   "execution_count": 1,
   "metadata": {
    "tags": []
   },
   "outputs": [],
   "source": [
    "from shapely.geometry import Point, LineString, Polygon, base\n",
    "\n",
    "def create_point_geometry(x_coord, y_coord):\n",
    "    \"\"\"\n",
    "    A function to create a point geometry\n",
    "    \n",
    "    Parameters\n",
    "    ----------\n",
    "        x_coord: the x coordinate of the point\n",
    "        y_coord: the y coordinate of the point\n",
    "        \n",
    "    Return\n",
    "    ------\n",
    "        A point geometry\n",
    "    \"\"\"\n",
    "    Point1 = Point(x_coord, y_coord)\n",
    "    \n",
    "    return Point1\n"
   ]
  },
  {
   "cell_type": "markdown",
   "metadata": {
    "deletable": false,
    "editable": false
   },
   "source": [
    "Test your function by running the following code cell:"
   ]
  },
  {
   "cell_type": "code",
   "execution_count": 2,
   "metadata": {
    "deletable": false,
    "editable": false
   },
   "outputs": [
    {
     "name": "stdout",
     "output_type": "stream",
     "text": [
      "POINT (0 1.1)\n",
      "Point\n"
     ]
    }
   ],
   "source": [
    "# NON-EDITABLE CODE CELL FOR TESTING YOUR SOLUTION\n",
    "point1 = create_point_geometry(0.0, 1.1)\n",
    "print(point1)\n",
    "print(point1.geom_type)"
   ]
  },
  {
   "cell_type": "markdown",
   "metadata": {
    "deletable": false,
    "editable": false,
    "tags": []
   },
   "source": [
    "\n",
    "----\n",
    "\n",
    "#### (1b)\n",
    "\n",
    "Create a function called **`create_line_geometry()`** that takes a list of `shapely.geometry.Point`s as\n",
    "an argument, and returns a `shapely.geometry.LineString` object of those input points.\n",
    "\n",
    "In addition, you should validate the function input using `assert` statements (see \n",
    "[lesson 6 of the Geo-Python course](https://geo-python-site.readthedocs.io/en/latest/notebooks/L6/gcp-5-assertions.html)\n",
    "and the [hints for this exercise](https://autogis-site.readthedocs.io/en/latest/lessons/L1/exercise-1.html#hints)):\n",
    "\n",
    "  - Inside the function, first check that the input is a **list**. If something else than a list is\n",
    "    passed, raise the following error: \"Input should be a list\".\n",
    "  - Use `assert` to check that the input list contains **at least** two values. Otherwise, raise the error: \"At\n",
    "    minimum two points are required for a LineString\"\n",
    "  - *(optional)* Use `assert` to check that all values in the input list are `shapely.geometry.Point`s.\n",
    "    Otherwise, raise the error: \"All list values must be of type shapely.geometry.Point\"\n",
    "  "
   ]
  },
  {
   "cell_type": "code",
   "execution_count": 3,
   "metadata": {
    "tags": []
   },
   "outputs": [],
   "source": [
    "def create_line_geometry(PointList):\n",
    "    \"\"\"\n",
    "    A function to create a line geometry\n",
    "    \n",
    "    Parameter\n",
    "    ---------\n",
    "        PointList: A list of shapely.geometry.Point objects\n",
    "        \n",
    "    Return\n",
    "    ------\n",
    "        A shapely.geometry.LineString object\n",
    "    \"\"\"\n",
    "    assert type(PointList) == list, \"Input should be a list\"\n",
    "    assert len(PointList) >= 2, \"A minimum of two points are required for a LineString\"\n",
    "    assert all(isinstance(i, Point) for i in PointList), \"All list values must be of type shapely.geometry.Point\"\n",
    "        \n",
    "    LineObj = LineString(PointList)\n",
    "    return LineObj\n"
   ]
  },
  {
   "cell_type": "markdown",
   "metadata": {
    "deletable": false,
    "editable": false
   },
   "source": [
    "Demonstrate how to use your function:\n",
    "Create a line object with two points, `Point(45.2, 22.34)` and `Point(100.22, -3.20)`, and store the result in a variable called `line1`."
   ]
  },
  {
   "cell_type": "code",
   "execution_count": 4,
   "metadata": {},
   "outputs": [],
   "source": [
    "# Points\n",
    "Point_A = Point(45.2, 22.34)\n",
    "Point_B = Point(100.22, -3.20)\n",
    "\n",
    "# List of points\n",
    "ListOfPts = [Point_A, Point_B]\n",
    "\n",
    "# Implementation of the line-creation function\n",
    "line1 = create_line_geometry(ListOfPts) "
   ]
  },
  {
   "cell_type": "markdown",
   "metadata": {
    "deletable": false,
    "editable": false
   },
   "source": [
    "Run this code cell to check your solution:"
   ]
  },
  {
   "cell_type": "code",
   "execution_count": 5,
   "metadata": {
    "deletable": false,
    "editable": false
   },
   "outputs": [
    {
     "name": "stdout",
     "output_type": "stream",
     "text": [
      "LINESTRING (45.2 22.34, 100.22 -3.2)\n",
      "LineString\n"
     ]
    }
   ],
   "source": [
    "# NON-EDITABLE CODE CELL FOR TESTING YOUR SOLUTION\n",
    "print(line1)\n",
    "print(line1.geom_type)"
   ]
  },
  {
   "cell_type": "markdown",
   "metadata": {
    "deletable": false,
    "editable": false
   },
   "source": [
    "Check if your function checks the input correctly by running this code cell:"
   ]
  },
  {
   "cell_type": "code",
   "execution_count": 6,
   "metadata": {
    "deletable": false,
    "editable": false
   },
   "outputs": [
    {
     "name": "stdout",
     "output_type": "stream",
     "text": [
      "The function (correctly) detected an error. The error message was ‘Input should be a list’\n"
     ]
    }
   ],
   "source": [
    "# NON-EDITABLE CODE CELL FOR TESTING YOUR SOLUTION\n",
    "try:\n",
    "    # Pass something else than a list\n",
    "    create_line_geometry(\"Give me a line!\")\n",
    "except AssertionError as exception:\n",
    "    print(f\"The function (correctly) detected an error. The error message was ‘{exception.args[0]}’\")\n",
    "except Exception as exception:\n",
    "    raise exception"
   ]
  },
  {
   "cell_type": "markdown",
   "metadata": {
    "deletable": false,
    "editable": false,
    "tags": []
   },
   "source": [
    "\n",
    "----\n",
    "\n",
    "#### (1c)\n",
    "\n",
    "Create a function **`create_polygon_geometry()`** that accepts one parameter `coordinates`. `coordinates` should be *a list of\n",
    "coordinate tuples*. The function should create and return a `shapely.geometry.Polygon` object based on these coordinates.  \n",
    "\n",
    "Again, use `assert` statements to ensure the input arguments are valid:\n",
    "\n",
    "  - first check that the input is a **list**. If something else than a list is\n",
    "    passed, raise the following error: \"Input should be a list\".\n",
    "  - Check that the input list contains **at least three values**. Otherwise, raise the error: \"At\n",
    "    minimum three points are required for a polygon\"\n",
    "  - Check that all values in the input list are tuples of two values.\n",
    "    Otherwise, raise the error: \"All list values must be coordinate tuples\"\n",
    "  - *(optional)* check that all tuples’ values are instances of either `int` or `float`.\n",
    "\n",
    "*(Optional)* Write the function in a way that also allows the input to be a list of `shapely.geometry.Point`s.\n",
    "If `coords` contains `shapely.geometry.Point` objects, return a polygon based on these points.\n",
    "If the input is neither a list of tuples, nor a list of Points, raise an appropriate error message.\n",
    "  "
   ]
  },
  {
   "cell_type": "code",
   "execution_count": 7,
   "metadata": {},
   "outputs": [],
   "source": [
    "def create_polygon_geometry(coordinates):\n",
    "    \"\"\"\n",
    "    A function to create a polygon geometry\n",
    "    \n",
    "    Parameter\n",
    "    ---------\n",
    "        coordinates: A list of coordinate tuples\n",
    "        \n",
    "    Return\n",
    "    ------\n",
    "        A shapely.geometry.Polygon object\n",
    "    \"\"\"\n",
    "    # Ensure the parameter is a list\n",
    "    assert type(coordinates) == list, \"Input should be a list\"\n",
    "    \n",
    "    # Ensure the input list has at least three values\n",
    "    assert len(coordinates) >= 3, \"At minimum three points are required for a polygon\"\n",
    "    \n",
    "    if all(isinstance(i, tuple) for i in coordinates):  # Check if the elements in the list are tuples\n",
    "        assert all(len(i)==2 for i in coordinates), \"All list values must be coordinate tuples\"\n",
    "        assert all(all(isinstance(j, (int,float)) for j in i) for i in coordinates), \"Tuple values should be of type, int or float\"\n",
    "        PolygonObj = Polygon(coordinates)\n",
    "        return PolygonObj\n",
    "    elif all(isinstance(i, Point) for i in coordinates):  # Check if the input list contains shapely.geometry.Point elements \n",
    "        PolygonObj = Polygon(coordinates)\n",
    "        return PolygonObj\n",
    "    else: \n",
    "        raise Exception(\"Argument type is invalid for polygon geometry creation\")\n",
    "             "
   ]
  },
  {
   "cell_type": "markdown",
   "metadata": {
    "deletable": false,
    "editable": false
   },
   "source": [
    "Demonstrate how to use the function. \n",
    "For example, create a Polygon `polygon1` with three points: `(45.2, 22.34)`, `(100.22, -3.20)`, `(70.0, 10.20)`."
   ]
  },
  {
   "cell_type": "code",
   "execution_count": 8,
   "metadata": {},
   "outputs": [],
   "source": [
    "# A list of coordinate tuples\n",
    "lstOfPts = [(45.2, 22.34), (100.22, -3.20), (70.0, 10.20)] \n",
    "\n",
    "# Implementation of the polygon-creation function\n",
    "polygon1 = create_polygon_geometry(lstOfPts)\n"
   ]
  },
  {
   "cell_type": "markdown",
   "metadata": {
    "deletable": false,
    "editable": false
   },
   "source": [
    "Use the following code cell to test your solution:"
   ]
  },
  {
   "cell_type": "code",
   "execution_count": 9,
   "metadata": {
    "deletable": false,
    "editable": false
   },
   "outputs": [
    {
     "name": "stdout",
     "output_type": "stream",
     "text": [
      "POLYGON ((45.2 22.34, 100.22 -3.2, 70 10.2, 45.2 22.34))\n",
      "Polygon\n"
     ]
    }
   ],
   "source": [
    "# NON-EDITABLE CODE CELL FOR TESTING YOUR SOLUTION\n",
    "print(polygon1)\n",
    "print(polygon1.geom_type)"
   ]
  },
  {
   "cell_type": "markdown",
   "metadata": {
    "deletable": false,
    "editable": false
   },
   "source": [
    "Check if your function checks the length of the input correctly by running this code cell:"
   ]
  },
  {
   "cell_type": "code",
   "execution_count": 10,
   "metadata": {
    "deletable": false,
    "editable": false
   },
   "outputs": [
    {
     "name": "stdout",
     "output_type": "stream",
     "text": [
      "The function (correctly) detected an error. The error message was ‘Input should be a list’\n"
     ]
    }
   ],
   "source": [
    "# NON-EDITABLE CODE CELL FOR TESTING YOUR SOLUTION\n",
    "try:\n",
    "    # Pass something else than a list\n",
    "    create_polygon_geometry(\"Give me a polygon\")\n",
    "except AssertionError as exception:\n",
    "    print(f\"The function (correctly) detected an error. The error message was ‘{exception.args[0]}’\")\n",
    "except Exception as exception:\n",
    "    raise exception"
   ]
  },
  {
   "cell_type": "markdown",
   "metadata": {
    "deletable": false,
    "editable": false,
    "tags": []
   },
   "source": [
    "\n",
    "----\n",
    "\n",
    "#### Done!\n",
    "\n",
    "That’s it. Now you are ready to continue with Problem 2. \n",
    "\n",
    "Remember to commit your code using `git` after each major code change (for example, after solving each problem). Remember also to upload (push) your files to your **own** personal GitHub repository for Exercise-1.\n"
   ]
  },
  {
   "cell_type": "markdown",
   "metadata": {
    "deletable": false,
    "editable": false,
    "tags": []
   },
   "source": [
    "## Problem 2: Attributes of geometries (*5 points*)\n",
    "\n",
    "In this problem, we look at the geometric properties of geometries, and how to access them."
   ]
  },
  {
   "cell_type": "markdown",
   "metadata": {
    "deletable": false,
    "editable": false,
    "tags": []
   },
   "source": [
    "\n",
    "----\n",
    "\n",
    "#### (2a)\n",
    "\n",
    "Create a function called **`get_centroid()`** that accepts one parameter, `geom`. \n",
    "The function should take any kind of Shapely’s geometry objects (any instance of `shapely.geometry.base.BaseGeometry`)\n",
    "as an input, and return the centroid of that geometry. \n",
    "\n",
    "Make sure to validate the function’s input arguments using `assert` statements:\n",
    "\n",
    "  - check that the input is a `shapely.geometry.base.BaseGeometry` or one of its child classes.\n",
    "    Otherwise, raise the error \"Input must be a `shapely` geometry\".\n"
   ]
  },
  {
   "cell_type": "code",
   "execution_count": 11,
   "metadata": {},
   "outputs": [],
   "source": [
    "def get_centroid(geom):\n",
    "    \"\"\"\n",
    "    A function to get the centroid of a geometry\n",
    "    \n",
    "    Parameter\n",
    "    ---------\n",
    "        geom: A geometry\n",
    "        \n",
    "    Return\n",
    "    ------\n",
    "        The centroid \n",
    "    \"\"\"\n",
    "    assert (type(geom) == base.BaseGeometry or\n",
    "            type(geom) == Point or\n",
    "            type(geom) == LineString or\n",
    "            type(geom) == Polygon), \"Input must be a shapely geometry\"\n",
    "    \n",
    "    centroid = geom.centroid\n",
    "    return centroid\n"
   ]
  },
  {
   "cell_type": "markdown",
   "metadata": {
    "deletable": false,
    "editable": false
   },
   "source": [
    "Test and demonstrate the usage of the function. You can, for example, create shapely objects using the functions you created in problem 1 and print out information about their centroids:\n"
   ]
  },
  {
   "cell_type": "code",
   "execution_count": 12,
   "metadata": {},
   "outputs": [
    {
     "data": {
      "image/svg+xml": [
       "<svg xmlns=\"http://www.w3.org/2000/svg\" xmlns:xlink=\"http://www.w3.org/1999/xlink\" width=\"100.0\" height=\"100.0\" viewBox=\"70.80666666666667 8.780000000000001 2.0 2.0\" preserveAspectRatio=\"xMinYMin meet\"><g transform=\"matrix(1,0,0,-1,0,19.560000000000002)\"><circle cx=\"71.80666666666667\" cy=\"9.780000000000001\" r=\"0.06\" stroke=\"#555555\" stroke-width=\"0.02\" fill=\"#66cc99\" opacity=\"0.6\" /></g></svg>"
      ],
      "text/plain": [
       "<POINT (71.807 9.78)>"
      ]
     },
     "execution_count": 12,
     "metadata": {},
     "output_type": "execute_result"
    }
   ],
   "source": [
    "centre = get_centroid(polygon1)\n",
    "centre"
   ]
  },
  {
   "cell_type": "code",
   "execution_count": 13,
   "metadata": {
    "deletable": false,
    "editable": false
   },
   "outputs": [
    {
     "name": "stdout",
     "output_type": "stream",
     "text": [
      "POINT (71.80666666666667 9.780000000000001)\n"
     ]
    }
   ],
   "source": [
    "# NON-EDITABLE CODE CELL FOR TESTING YOUR SOLUTION\n",
    "centroid = get_centroid(polygon1)\n",
    "print(centroid)"
   ]
  },
  {
   "cell_type": "markdown",
   "metadata": {
    "deletable": false,
    "editable": false
   },
   "source": [
    "Check that the assertion error works correctly:"
   ]
  },
  {
   "cell_type": "code",
   "execution_count": 14,
   "metadata": {
    "deletable": false,
    "editable": false
   },
   "outputs": [
    {
     "name": "stdout",
     "output_type": "stream",
     "text": [
      "The function (correctly) detected an error. The error message was ‘Input must be a shapely geometry’\n"
     ]
    }
   ],
   "source": [
    "# NON-EDITABLE CODE CELL FOR TESTING YOUR SOLUTION\n",
    "try:\n",
    "    # Pass something else than a Shapely geometry\n",
    "    get_centroid(\"Give me a centroid!\")\n",
    "except AssertionError as exception:\n",
    "    print(f\"The function (correctly) detected an error. The error message was ‘{exception.args[0]}’\")\n",
    "except Exception as exception:\n",
    "    raise exception"
   ]
  },
  {
   "cell_type": "markdown",
   "metadata": {
    "deletable": false,
    "editable": false,
    "tags": []
   },
   "source": [
    "\n",
    "----\n",
    "\n",
    "#### (2b)\n",
    "\n",
    "Create a function **`get_area()`** accepting one parameter `polygon`. \n",
    "\n",
    "The function should accept a `shapely.geometry.Polygon` and return its area. \n",
    "Again, use `assert` to make sure the input values are valid, in particular, check that:\n",
    "- the input is a `shapely.geometry.Polygon`. If the argument is anything else, \n",
    "  raise an error: \"Input should be a `shapely.geometry.Polygon`\"."
   ]
  },
  {
   "cell_type": "code",
   "execution_count": 15,
   "metadata": {},
   "outputs": [],
   "source": [
    "def get_area(polygon):\n",
    "    \"\"\"\n",
    "    A function to get the area of a polygon\n",
    "    \n",
    "    Parameter\n",
    "    ---------\n",
    "        polygon: A polygon geometry\n",
    "        \n",
    "    Return\n",
    "    ------\n",
    "        The area of the polygon \n",
    "    \"\"\"\n",
    "    assert type(polygon) == Polygon, \"Input should be a shapely.geometry.Polygon\"\n",
    "    \n",
    "    area = polygon.area\n",
    "    return area"
   ]
  },
  {
   "cell_type": "markdown",
   "metadata": {
    "deletable": false,
    "editable": false
   },
   "source": [
    "Test and demonstrate how to use the function:"
   ]
  },
  {
   "cell_type": "code",
   "execution_count": 16,
   "metadata": {},
   "outputs": [
    {
     "data": {
      "text/plain": [
       "17.275400000000047"
      ]
     },
     "execution_count": 16,
     "metadata": {},
     "output_type": "execute_result"
    }
   ],
   "source": [
    "area = get_area(polygon1)\n",
    "area"
   ]
  },
  {
   "cell_type": "code",
   "execution_count": 17,
   "metadata": {
    "deletable": false,
    "editable": false
   },
   "outputs": [
    {
     "name": "stdout",
     "output_type": "stream",
     "text": [
      "17.28\n"
     ]
    }
   ],
   "source": [
    "# NON-EDITABLE CODE CELL FOR TESTING YOUR SOLUTION\n",
    "area = get_area(polygon1)\n",
    "print(round(area, 2))"
   ]
  },
  {
   "cell_type": "markdown",
   "metadata": {
    "deletable": false,
    "editable": false
   },
   "source": [
    "Check that the assertion works:"
   ]
  },
  {
   "cell_type": "code",
   "execution_count": 18,
   "metadata": {
    "deletable": false,
    "editable": false
   },
   "outputs": [
    {
     "name": "stdout",
     "output_type": "stream",
     "text": [
      "The function (correctly) detected an error. The error message was ‘Input should be a shapely.geometry.Polygon’\n"
     ]
    }
   ],
   "source": [
    "# NON-EDITABLE CODE CELL FOR TESTING YOUR SOLUTION\n",
    "try:\n",
    "    # Pass something else than a Shapely geometry\n",
    "    get_area(\"Give me an area!\")\n",
    "except AssertionError as exception:\n",
    "    print(f\"The function (correctly) detected an error. The error message was ‘{exception.args[0]}’\")\n",
    "except Exception as exception:\n",
    "    raise exception"
   ]
  },
  {
   "cell_type": "markdown",
   "metadata": {
    "deletable": false,
    "editable": false,
    "tags": []
   },
   "source": [
    "\n",
    "----\n",
    "\n",
    "#### (2c)\n",
    "\n",
    "Create a function **`get_length()`** accepting one parameter, `geometry`. \n",
    "\n",
    "The function should accept either a `shapely.geometry.LineString` or a `shapely.geometry.Polygon` as input.\n",
    "Check the type of the input and return the length of the line if input is a LineString and length of the\n",
    "exterior ring if the input is a Polygon. \n",
    "\n",
    "If something else is passed to the function, raise an error \"‘geometry’ should be either a LineString or a Polygon\". Use `assert` or (advanced, optional) [raise a `ValueError` exception](https://docs.python.org/3/tutorial/errors.html#handling-exceptions).\n"
   ]
  },
  {
   "cell_type": "code",
   "execution_count": 19,
   "metadata": {},
   "outputs": [],
   "source": [
    "def get_length(geometry):\n",
    "    \"\"\"\n",
    "    A function to get the length of a LineString or the perimeter of a Polygon \n",
    "    \n",
    "    Parameter\n",
    "    ---------\n",
    "        geometry: A LineString or a Polygon\n",
    "    \"\"\"\n",
    "    assert (type(geometry) == LineString or\n",
    "            type(geometry) == Polygon), \"‘geometry’ should be either a LineString or a Polygon\"\n",
    "    if type(geometry) == LineString:\n",
    "        length = geometry.length\n",
    "        return length\n",
    "    else:\n",
    "        length = geometry.exterior.length\n",
    "        return length\n"
   ]
  },
  {
   "cell_type": "markdown",
   "metadata": {
    "deletable": false,
    "editable": false
   },
   "source": [
    "Test and demonstrate the usage of the function:"
   ]
  },
  {
   "cell_type": "code",
   "execution_count": 20,
   "metadata": {
    "deletable": false,
    "editable": false
   },
   "outputs": [
    {
     "name": "stdout",
     "output_type": "stream",
     "text": [
      "Line length: 60.66\n",
      "Polygon exterior length: 121.33\n",
      "The function (correctly) detected an error. The error message was ‘‘geometry’ should be either a LineString or a Polygon’\n"
     ]
    }
   ],
   "source": [
    "# NON-EDITABLE CODE CELL FOR TESTING YOUR SOLUTION\n",
    "line_length = get_length(line1)\n",
    "print(\"Line length:\", round(line_length,2))\n",
    "\n",
    "poly_exterior_length = get_length(polygon1)\n",
    "print(\"Polygon exterior length:\", round(poly_exterior_length,2))\n",
    "\n",
    "try:\n",
    "    # Pass something else than a Shapely LineString or Polygon\n",
    "    get_length(Point(1,2))\n",
    "except (AssertionError, ValueError) as exception:\n",
    "    print(f\"The function (correctly) detected an error. The error message was ‘{exception.args[0]}’\")\n",
    "except Exception as exception:\n",
    "    raise exception"
   ]
  },
  {
   "cell_type": "markdown",
   "metadata": {
    "deletable": false,
    "editable": false,
    "tags": []
   },
   "source": [
    "\n",
    "----\n",
    "\n",
    "## Docstrings\n",
    "\n",
    "Did you add a docstring to all the functions you defined? If not, add them now :) A short one-line docstring is enough in this exercise."
   ]
  },
  {
   "cell_type": "markdown",
   "metadata": {
    "deletable": false,
    "editable": false
   },
   "source": [
    "You can run the code cell below to check all the docstrings:"
   ]
  },
  {
   "cell_type": "code",
   "execution_count": 21,
   "metadata": {
    "deletable": false,
    "editable": false
   },
   "outputs": [
    {
     "name": "stdout",
     "output_type": "stream",
     "text": [
      "My functions:\n",
      "\n",
      "- create_point_geometry: \n",
      "    A function to create a point geometry\n",
      "    \n",
      "    Parameters\n",
      "    ----------\n",
      "        x_coord: the x coordinate of the point\n",
      "        y_coord: the y coordinate of the point\n",
      "        \n",
      "    Return\n",
      "    ------\n",
      "        A point geometry\n",
      "    \n",
      "- create_line_geometry: \n",
      "    A function to create a line geometry\n",
      "    \n",
      "    Parameter\n",
      "    ---------\n",
      "        PointList: A list of shapely.geometry.Point objects\n",
      "        \n",
      "    Return\n",
      "    ------\n",
      "        A shapely.geometry.LineString object\n",
      "    \n",
      "- create_polygon_geometry: \n",
      "    A function to create a polygon geometry\n",
      "    \n",
      "    Parameter\n",
      "    ---------\n",
      "        coordinates: A list of coordinate tuples\n",
      "        \n",
      "    Return\n",
      "    ------\n",
      "        A shapely.geometry.Polygon object\n",
      "    \n",
      "- get_centroid: \n",
      "    A function to get the centroid of a geometry\n",
      "    \n",
      "    Parameter\n",
      "    ---------\n",
      "        geom: A geometry\n",
      "        \n",
      "    Return\n",
      "    ------\n",
      "        The centroid \n",
      "    \n",
      "- get_area: \n",
      "    A function to get the area of a polygon\n",
      "    \n",
      "    Parameter\n",
      "    ---------\n",
      "        polygon: A polygon geometry\n",
      "        \n",
      "    Return\n",
      "    ------\n",
      "        The area of the polygon \n",
      "    \n",
      "- get_length: \n",
      "    A function to get the length of a LineString or the perimeter of a Polygon \n",
      "    \n",
      "    Parameter\n",
      "    ---------\n",
      "        geometry: A LineString or a Polygon\n",
      "    \n"
     ]
    }
   ],
   "source": [
    "# NON-EDITABLE CODE CELL FOR TESTING YOUR SOLUTION\n",
    "\n",
    "# List all functions we created\n",
    "functions = [\n",
    "    create_point_geometry,\n",
    "    create_line_geometry,\n",
    "    create_polygon_geometry,\n",
    "    get_centroid,\n",
    "    get_area,\n",
    "    get_length\n",
    "]\n",
    "\n",
    "print(\"My functions:\\n\")\n",
    "\n",
    "for function in functions:\n",
    "    # print function name and docstring:\n",
    "    print(\"-\", function.__name__ +\":\", function.__doc__)"
   ]
  },
  {
   "cell_type": "markdown",
   "metadata": {
    "deletable": false,
    "editable": false
   },
   "source": [
    "\n",
    "----\n",
    "\n",
    "Don’t forget to upload your code and edits to your **own** personal GitHub repository for Exercise-1.\n",
    "\n",
    "#### Done!\n",
    "\n",
    "That's it. Now you are ready to continue with Problem 3. "
   ]
  }
 ],
 "metadata": {
  "kernelspec": {
   "display_name": "Python 3 (ipykernel)",
   "language": "python",
   "name": "python3"
  },
  "language_info": {
   "codemirror_mode": {
    "name": "ipython",
    "version": 3
   },
   "file_extension": ".py",
   "mimetype": "text/x-python",
   "name": "python",
   "nbconvert_exporter": "python",
   "pygments_lexer": "ipython3",
   "version": "3.10.8"
  }
 },
 "nbformat": 4,
 "nbformat_minor": 4
}
