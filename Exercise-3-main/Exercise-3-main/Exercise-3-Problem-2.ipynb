{
 "cells": [
  {
   "cell_type": "markdown",
   "metadata": {
    "deletable": false,
    "editable": false
   },
   "source": [
    "## Problem 2: Create buffers around shopping centers (7 points)\n",
    "\n",
    "Let’s continue with our case study and calculate a 1.5 km buffer around the geocoded points. "
   ]
  },
  {
   "cell_type": "markdown",
   "metadata": {
    "deletable": false,
    "editable": false
   },
   "source": [
    "### a) Load the shopping centre data set\n",
    "\n",
    "First, load the shopping centre *point* data set you created in *problem 1* into a `GeoDataFrame` called `shopping_centres`."
   ]
  },
  {
   "cell_type": "code",
   "execution_count": 1,
   "metadata": {},
   "outputs": [
    {
     "data": {
      "text/html": [
       "<div>\n",
       "<style scoped>\n",
       "    .dataframe tbody tr th:only-of-type {\n",
       "        vertical-align: middle;\n",
       "    }\n",
       "\n",
       "    .dataframe tbody tr th {\n",
       "        vertical-align: top;\n",
       "    }\n",
       "\n",
       "    .dataframe thead th {\n",
       "        text-align: right;\n",
       "    }\n",
       "</style>\n",
       "<table border=\"1\" class=\"dataframe\">\n",
       "  <thead>\n",
       "    <tr style=\"text-align: right;\">\n",
       "      <th></th>\n",
       "      <th>address</th>\n",
       "      <th>id</th>\n",
       "      <th>name</th>\n",
       "      <th>addr</th>\n",
       "      <th>geometry</th>\n",
       "    </tr>\n",
       "  </thead>\n",
       "  <tbody>\n",
       "    <tr>\n",
       "      <th>0</th>\n",
       "      <td>Itis, 1-7, Itäkatu, Itäkeskus, Vartiokylä, Itä...</td>\n",
       "      <td>1100</td>\n",
       "      <td>Itis</td>\n",
       "      <td>Itäkatu 1-7, 00930 Helsinki, Finnland</td>\n",
       "      <td>POINT (25504620.852 6677678.487)</td>\n",
       "    </tr>\n",
       "    <tr>\n",
       "      <th>1</th>\n",
       "      <td>Jungle Juice Bar, 14-20, Mannerheimintie, Kesk...</td>\n",
       "      <td>1101</td>\n",
       "      <td>Forum</td>\n",
       "      <td>Mannerheimintie 14–20, 00100 Helsinki, Finnland</td>\n",
       "      <td>POINT (25496547.460 6672895.008)</td>\n",
       "    </tr>\n",
       "    <tr>\n",
       "      <th>2</th>\n",
       "      <td>Iso Omena, 11, Piispansilta, Matinkylä, Suur-M...</td>\n",
       "      <td>1102</td>\n",
       "      <td>Iso-omena</td>\n",
       "      <td>Piispansilta 11, 02230 Espoo, Finnland</td>\n",
       "      <td>POINT (25485470.435 6672070.967)</td>\n",
       "    </tr>\n",
       "    <tr>\n",
       "      <th>3</th>\n",
       "      <td>Kung Food Panda, 3-9, Leppävaarankatu, Säteri,...</td>\n",
       "      <td>1103</td>\n",
       "      <td>Sello</td>\n",
       "      <td>Leppävaarankatu 3-9, 02600 Espoo, Finnland</td>\n",
       "      <td>POINT (25489664.678 6678438.458)</td>\n",
       "    </tr>\n",
       "    <tr>\n",
       "      <th>4</th>\n",
       "      <td>Stockmann, 3, Vantaanportinkatu, Vantaanportti...</td>\n",
       "      <td>1104</td>\n",
       "      <td>Jumbo</td>\n",
       "      <td>Vantaanportinkatu 3, 01510 Vantaa, Finnland</td>\n",
       "      <td>POINT (25497943.932 6686656.982)</td>\n",
       "    </tr>\n",
       "    <tr>\n",
       "      <th>5</th>\n",
       "      <td>Change Lingerie, 5, Hermannin rantatie, Verkko...</td>\n",
       "      <td>1105</td>\n",
       "      <td>REDI</td>\n",
       "      <td>Hermannin rantatie 5, 00580 Helsinki, Finnland</td>\n",
       "      <td>POINT (25498905.430 6674929.193)</td>\n",
       "    </tr>\n",
       "    <tr>\n",
       "      <th>6</th>\n",
       "      <td>None</td>\n",
       "      <td>1106</td>\n",
       "      <td>Tripla</td>\n",
       "      <td>Mall of Tripla, Fredikanterassi 1, 00520 Helsi...</td>\n",
       "      <td>POINT EMPTY</td>\n",
       "    </tr>\n",
       "  </tbody>\n",
       "</table>\n",
       "</div>"
      ],
      "text/plain": [
       "                                             address    id       name  \\\n",
       "0  Itis, 1-7, Itäkatu, Itäkeskus, Vartiokylä, Itä...  1100       Itis   \n",
       "1  Jungle Juice Bar, 14-20, Mannerheimintie, Kesk...  1101      Forum   \n",
       "2  Iso Omena, 11, Piispansilta, Matinkylä, Suur-M...  1102  Iso-omena   \n",
       "3  Kung Food Panda, 3-9, Leppävaarankatu, Säteri,...  1103      Sello   \n",
       "4  Stockmann, 3, Vantaanportinkatu, Vantaanportti...  1104      Jumbo   \n",
       "5  Change Lingerie, 5, Hermannin rantatie, Verkko...  1105       REDI   \n",
       "6                                               None  1106     Tripla   \n",
       "\n",
       "                                                addr  \\\n",
       "0              Itäkatu 1-7, 00930 Helsinki, Finnland   \n",
       "1    Mannerheimintie 14–20, 00100 Helsinki, Finnland   \n",
       "2             Piispansilta 11, 02230 Espoo, Finnland   \n",
       "3         Leppävaarankatu 3-9, 02600 Espoo, Finnland   \n",
       "4        Vantaanportinkatu 3, 01510 Vantaa, Finnland   \n",
       "5     Hermannin rantatie 5, 00580 Helsinki, Finnland   \n",
       "6  Mall of Tripla, Fredikanterassi 1, 00520 Helsi...   \n",
       "\n",
       "                           geometry  \n",
       "0  POINT (25504620.852 6677678.487)  \n",
       "1  POINT (25496547.460 6672895.008)  \n",
       "2  POINT (25485470.435 6672070.967)  \n",
       "3  POINT (25489664.678 6678438.458)  \n",
       "4  POINT (25497943.932 6686656.982)  \n",
       "5  POINT (25498905.430 6674929.193)  \n",
       "6                       POINT EMPTY  "
      ]
     },
     "execution_count": 1,
     "metadata": {},
     "output_type": "execute_result"
    }
   ],
   "source": [
    "# Import the relevant libraries\n",
    "import pandas as pd\n",
    "import geopandas as gpd\n",
    "\n",
    "# Import and read the shopping centres data\n",
    "shopping_centres = gpd.read_file(\"shopping_centres.gpkg\")\n",
    "shopping_centres"
   ]
  },
  {
   "cell_type": "code",
   "execution_count": 2,
   "metadata": {},
   "outputs": [
    {
     "data": {
      "text/plain": [
       "geopandas.geodataframe.GeoDataFrame"
      ]
     },
     "execution_count": 2,
     "metadata": {},
     "output_type": "execute_result"
    }
   ],
   "source": [
    "type(shopping_centres)"
   ]
  },
  {
   "cell_type": "markdown",
   "metadata": {
    "deletable": false,
    "editable": false
   },
   "source": [
    "\n",
    "---\n",
    "\n",
    "### b) Create a *buffer* around the points\n",
    "\n",
    "Calculate a 1.5 km buffer for each geocoded point. Overwrite the `geometry` column with the new buffer geometry.\n",
    "\n",
    "Use the [`geopandas.GeoDataFrame.buffer()` method](http://geopandas.org/geometric_manipulations.html#GeoSeries.buffer), that uses shapely’s [`buffer()`](http://toblerity.org/shapely/manual.html#object.buffer) in the background. You only need to care about the `distance` parameter, don’t worry about the possible other arguments."
   ]
  },
  {
   "cell_type": "code",
   "execution_count": 4,
   "metadata": {},
   "outputs": [],
   "source": [
    "# Create a buffer of 1.5km for each geocoded point\n",
    "shopping_centres['geometry'] = shopping_centres.buffer(distance=1500)"
   ]
  },
  {
   "cell_type": "code",
   "execution_count": 5,
   "metadata": {
    "deletable": false,
    "editable": false
   },
   "outputs": [],
   "source": [
    "# NON-EDITABLE CODE CELL FOR TESTING YOUR SOLUTION\n",
    "assert shopping_centres.geometry.geom_type.unique() == [\"Polygon\"]"
   ]
  },
  {
   "cell_type": "markdown",
   "metadata": {
    "deletable": false,
    "editable": false
   },
   "source": [
    "\n",
    "---\n",
    "\n",
    "### d) Save buffer geometry layer\n",
    "\n",
    "Save the data frame containing the buffer geometries into a new layer `buffers` inside the same *GeoPackage* `shopping_centres.gpkg`:"
   ]
  },
  {
   "cell_type": "code",
   "execution_count": 6,
   "metadata": {},
   "outputs": [],
   "source": [
    "# Save data with the buffered geometries\n",
    "shopping_centres.to_file(\n",
    "    \"shopping_centres.gpkg\",\n",
    "    layer=\"buffers\")\n"
   ]
  }
 ],
 "metadata": {
  "anaconda-cloud": {},
  "kernelspec": {
   "display_name": "Python 3 (ipykernel)",
   "language": "python",
   "name": "python3"
  },
  "language_info": {
   "codemirror_mode": {
    "name": "ipython",
    "version": 3
   },
   "file_extension": ".py",
   "mimetype": "text/x-python",
   "name": "python",
   "nbconvert_exporter": "python",
   "pygments_lexer": "ipython3",
   "version": "3.10.8"
  }
 },
 "nbformat": 4,
 "nbformat_minor": 4
}
